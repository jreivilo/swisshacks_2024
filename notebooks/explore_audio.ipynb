{
 "cells": [
  {
   "cell_type": "markdown",
   "metadata": {
    "id": "AnEMfM_cCSA4"
   },
   "source": [
    "# **This notebook illustrates some ways to explore audio files and extract basic features.**\n",
    "\n",
    "### It is important to realize that an audio is a signal (it is just a time-series). Therefore, it can be analysized in both time and frequency domain. "
   ]
  },
  {
   "cell_type": "code",
   "execution_count": null,
   "metadata": {},
   "outputs": [],
   "source": [
    "# if needed download the packages\n",
    "# !pip install pandas numpy seaborn matplotlib librosa os IPython"
   ]
  },
  {
   "cell_type": "code",
   "execution_count": null,
   "metadata": {
    "id": "3z0q1VN7CMJz"
   },
   "outputs": [],
   "source": [
    "# import packages\n",
    "import pandas as pd\n",
    "import numpy as np\n",
    "import seaborn as sns\n",
    "import matplotlib.pyplot as plt\n",
    "import librosa\n",
    "import os\n",
    "from IPython.display import Audio"
   ]
  },
  {
   "cell_type": "code",
   "execution_count": null,
   "metadata": {
    "colab": {
     "base_uri": "https://localhost:8080/"
    },
    "id": "HwwSLNZiCiud",
    "outputId": "48470867-ceff-4841-ef20-b4365a1e6e36"
   },
   "outputs": [],
   "source": [
    "# set your path!!\n",
    "PATH = \"drive/MyDrive/Path_to_your_Files\""
   ]
  },
  {
   "cell_type": "code",
   "execution_count": null,
   "metadata": {
    "id": "UvQQyWUHCu4c"
   },
   "outputs": [],
   "source": [
    "# get the first recording for exploration\n",
    "recording_sample = os.listdir(PATH)[0] # random index, switch it if you want an other example\n",
    "# get path\n",
    "sample_path = os.path.join(PATH, recording_sample)"
   ]
  },
  {
   "cell_type": "code",
   "execution_count": null,
   "metadata": {
    "colab": {
     "base_uri": "https://localhost:8080/"
    },
    "id": "Wfyi-vqmC4Z4",
    "outputId": "c3b6bb89-aa13-45a7-88f7-6fb147635442"
   },
   "outputs": [],
   "source": [
    "# load audio file with librosa library\n",
    "data, sr = librosa.load(sample_path)"
   ]
  },
  {
   "cell_type": "code",
   "execution_count": null,
   "metadata": {
    "colab": {
     "base_uri": "https://localhost:8080/",
     "height": 75
    },
    "id": "hAGLirUsDG4F",
    "outputId": "4e879d12-c772-4b27-f844-3879d8941f3f"
   },
   "outputs": [],
   "source": [
    "# Listen to audio\n",
    "Audio(data, rate = sr)"
   ]
  },
  {
   "cell_type": "code",
   "execution_count": null,
   "metadata": {
    "colab": {
     "base_uri": "https://localhost:8080/",
     "height": 430
    },
    "id": "_gnUfYE3DMQM",
    "outputId": "78b83bf2-2d14-4f0b-fa01-4eff0f32e84a"
   },
   "outputs": [],
   "source": [
    "# visualize audio in time domain\n",
    "sns.set_style(\"whitegrid\")\n",
    "plt.plot(range(len(data)), data)\n",
    "plt.ylabel(\"Amplitude\");"
   ]
  },
  {
   "cell_type": "code",
   "execution_count": null,
   "metadata": {
    "colab": {
     "base_uri": "https://localhost:8080/"
    },
    "id": "9dos2N4hFWJ1",
    "outputId": "3f350ae0-9960-44a3-f649-ad8313705cf7"
   },
   "outputs": [],
   "source": [
    "# extract some simple feature --> mean and variance of the time-series\n",
    "mean_signal = data.mean()\n",
    "var_signal = data.var()\n",
    "print(\"The mean amplitude of the audio signal is: \", mean_signal)\n",
    "print(\"The variance of the amplitude of the audio signal is: \",var_signal)"
   ]
  },
  {
   "cell_type": "code",
   "execution_count": null,
   "metadata": {
    "colab": {
     "base_uri": "https://localhost:8080/",
     "height": 448
    },
    "id": "s48lt4XbDVqL",
    "outputId": "fa73c7f4-29aa-42f3-ed16-b40657fa8245"
   },
   "outputs": [],
   "source": [
    "# Visualize audio in frequency domain --> Mel-Spectrogram\n",
    "mel_scale_sgram = librosa.feature.melspectrogram(y = data, sr = sr)\n",
    "mel_sgram = librosa.amplitude_to_db(mel_scale_sgram, ref = np.min)\n",
    "librosa.display.specshow(data = mel_sgram, sr = sr)\n",
    "plt.xlabel(\"Time\")\n",
    "plt.ylabel(\"Mel-frequency in db\")\n",
    "plt.title(\"Mel-spectrogram of audio recording\");"
   ]
  },
  {
   "cell_type": "code",
   "execution_count": null,
   "metadata": {
    "colab": {
     "base_uri": "https://localhost:8080/"
    },
    "id": "zJ9djvYxFqrR",
    "outputId": "ee507765-5a33-4221-90b0-2b62de111f97"
   },
   "outputs": [],
   "source": [
    "# extract some simple features --> mean of max over time\n",
    "print(\"Shape of mel spectrogram: \", mel_sgram.shape)\n",
    "print(\"The mean of the maximum is: \", mel_sgram.max(axis = 0).mean())"
   ]
  },
  {
   "cell_type": "markdown",
   "metadata": {
    "id": "_MXogIn6G6_V"
   },
   "source": [
    "## Use libraries to extract features of the signal both in time and in frequency domain."
   ]
  },
  {
   "cell_type": "code",
   "execution_count": null,
   "metadata": {
    "id": "x6lB94EkHA63"
   },
   "outputs": [],
   "source": [
    "### see \"tsfel\" or \"librosa\" library ..."
   ]
  }
 ],
 "metadata": {
  "colab": {
   "provenance": []
  },
  "kernelspec": {
   "display_name": "Python 3 (ipykernel)",
   "language": "python",
   "name": "python3"
  },
  "language_info": {
   "codemirror_mode": {
    "name": "ipython",
    "version": 3
   },
   "file_extension": ".py",
   "mimetype": "text/x-python",
   "name": "python",
   "nbconvert_exporter": "python",
   "pygments_lexer": "ipython3",
   "version": "3.8.17"
  }
 },
 "nbformat": 4,
 "nbformat_minor": 1
}
